{
  "nbformat": 4,
  "nbformat_minor": 0,
  "metadata": {
    "colab": {
      "provenance": []
    },
    "kernelspec": {
      "name": "python3",
      "display_name": "Python 3"
    },
    "language_info": {
      "name": "python"
    }
  },
  "cells": [
    {
      "cell_type": "code",
      "source": [
        "import nltk\n",
        "nltk.download('stopwords')\n",
        "nltk.download('wordnet')\n",
        "nltk.download('punkt')\n",
        "nltk.download('averaged_perceptron_tagger') \n",
        "nltk.download('brown')\n"
      ],
      "metadata": {
        "colab": {
          "base_uri": "https://localhost:8080/"
        },
        "id": "VooqKd4Gcd7-",
        "outputId": "baf45ff1-1363-4031-f5c3-132e31839bde"
      },
      "execution_count": null,
      "outputs": [
        {
          "output_type": "stream",
          "name": "stderr",
          "text": [
            "[nltk_data] Downloading package stopwords to /root/nltk_data...\n",
            "[nltk_data]   Package stopwords is already up-to-date!\n",
            "[nltk_data] Downloading package wordnet to /root/nltk_data...\n",
            "[nltk_data]   Package wordnet is already up-to-date!\n",
            "[nltk_data] Downloading package punkt to /root/nltk_data...\n",
            "[nltk_data]   Package punkt is already up-to-date!\n",
            "[nltk_data] Downloading package averaged_perceptron_tagger to\n",
            "[nltk_data]     /root/nltk_data...\n",
            "[nltk_data]   Package averaged_perceptron_tagger is already up-to-\n",
            "[nltk_data]       date!\n",
            "[nltk_data] Downloading package brown to /root/nltk_data...\n",
            "[nltk_data]   Package brown is already up-to-date!\n"
          ]
        },
        {
          "output_type": "execute_result",
          "data": {
            "text/plain": [
              "True"
            ]
          },
          "metadata": {},
          "execution_count": 21
        }
      ]
    },
    {
      "cell_type": "code",
      "source": [
        "from nltk.corpus import brown"
      ],
      "metadata": {
        "id": "-2Bvaewpcp09"
      },
      "execution_count": null,
      "outputs": []
    },
    {
      "cell_type": "code",
      "source": [
        "brown.categories()"
      ],
      "metadata": {
        "colab": {
          "base_uri": "https://localhost:8080/"
        },
        "id": "f1rCSVtUc01P",
        "outputId": "50514a94-e04b-4c0b-a51b-0bca1d44141e"
      },
      "execution_count": null,
      "outputs": [
        {
          "output_type": "execute_result",
          "data": {
            "text/plain": [
              "['adventure',\n",
              " 'belles_lettres',\n",
              " 'editorial',\n",
              " 'fiction',\n",
              " 'government',\n",
              " 'hobbies',\n",
              " 'humor',\n",
              " 'learned',\n",
              " 'lore',\n",
              " 'mystery',\n",
              " 'news',\n",
              " 'religion',\n",
              " 'reviews',\n",
              " 'romance',\n",
              " 'science_fiction']"
            ]
          },
          "metadata": {},
          "execution_count": 18
        }
      ]
    },
    {
      "cell_type": "code",
      "source": [
        "brown.words(categories = 'romance') [:10]"
      ],
      "metadata": {
        "colab": {
          "base_uri": "https://localhost:8080/"
        },
        "id": "L5a4UOf7dD9s",
        "outputId": "606c8774-378e-4ad1-a414-a299b9bc8b6c"
      },
      "execution_count": null,
      "outputs": [
        {
          "output_type": "execute_result",
          "data": {
            "text/plain": [
              "['They', 'neither', 'liked', 'nor', 'disliked', 'the', 'Old', 'Man', '.', 'To']"
            ]
          },
          "metadata": {},
          "execution_count": 19
        }
      ]
    },
    {
      "cell_type": "code",
      "source": [
        "from nltk.corpus import inaugural"
      ],
      "metadata": {
        "id": "NVLui_CsdfhO"
      },
      "execution_count": null,
      "outputs": []
    },
    {
      "cell_type": "code",
      "source": [
        "inaugural.fileids()"
      ],
      "metadata": {
        "colab": {
          "base_uri": "https://localhost:8080/"
        },
        "id": "HewZqvwvdsCT",
        "outputId": "e8003d2f-9c61-45c5-b186-42d551be3b4a"
      },
      "execution_count": null,
      "outputs": [
        {
          "output_type": "execute_result",
          "data": {
            "text/plain": [
              "['1789-Washington.txt',\n",
              " '1793-Washington.txt',\n",
              " '1797-Adams.txt',\n",
              " '1801-Jefferson.txt',\n",
              " '1805-Jefferson.txt',\n",
              " '1809-Madison.txt',\n",
              " '1813-Madison.txt',\n",
              " '1817-Monroe.txt',\n",
              " '1821-Monroe.txt',\n",
              " '1825-Adams.txt',\n",
              " '1829-Jackson.txt',\n",
              " '1833-Jackson.txt',\n",
              " '1837-VanBuren.txt',\n",
              " '1841-Harrison.txt',\n",
              " '1845-Polk.txt',\n",
              " '1849-Taylor.txt',\n",
              " '1853-Pierce.txt',\n",
              " '1857-Buchanan.txt',\n",
              " '1861-Lincoln.txt',\n",
              " '1865-Lincoln.txt',\n",
              " '1869-Grant.txt',\n",
              " '1873-Grant.txt',\n",
              " '1877-Hayes.txt',\n",
              " '1881-Garfield.txt',\n",
              " '1885-Cleveland.txt',\n",
              " '1889-Harrison.txt',\n",
              " '1893-Cleveland.txt',\n",
              " '1897-McKinley.txt',\n",
              " '1901-McKinley.txt',\n",
              " '1905-Roosevelt.txt',\n",
              " '1909-Taft.txt',\n",
              " '1913-Wilson.txt',\n",
              " '1917-Wilson.txt',\n",
              " '1921-Harding.txt',\n",
              " '1925-Coolidge.txt',\n",
              " '1929-Hoover.txt',\n",
              " '1933-Roosevelt.txt',\n",
              " '1937-Roosevelt.txt',\n",
              " '1941-Roosevelt.txt',\n",
              " '1945-Roosevelt.txt',\n",
              " '1949-Truman.txt',\n",
              " '1953-Eisenhower.txt',\n",
              " '1957-Eisenhower.txt',\n",
              " '1961-Kennedy.txt',\n",
              " '1965-Johnson.txt',\n",
              " '1969-Nixon.txt',\n",
              " '1973-Nixon.txt',\n",
              " '1977-Carter.txt',\n",
              " '1981-Reagan.txt',\n",
              " '1985-Reagan.txt',\n",
              " '1989-Bush.txt',\n",
              " '1993-Clinton.txt',\n",
              " '1997-Clinton.txt',\n",
              " '2001-Bush.txt',\n",
              " '2005-Bush.txt',\n",
              " '2009-Obama.txt',\n",
              " '2013-Obama.txt',\n",
              " '2017-Trump.txt',\n",
              " '2021-Biden.txt']"
            ]
          },
          "metadata": {},
          "execution_count": 24
        }
      ]
    },
    {
      "cell_type": "code",
      "source": [
        "inaugural.words(fileids = '2017-Trump.txt')[:100]"
      ],
      "metadata": {
        "colab": {
          "base_uri": "https://localhost:8080/"
        },
        "id": "kZV8Gk-9d641",
        "outputId": "b16938f5-f0f3-4148-be38-fff40d3ca07c"
      },
      "execution_count": null,
      "outputs": [
        {
          "output_type": "execute_result",
          "data": {
            "text/plain": [
              "['Chief',\n",
              " 'Justice',\n",
              " 'Roberts',\n",
              " ',',\n",
              " 'President',\n",
              " 'Carter',\n",
              " ',',\n",
              " 'President',\n",
              " 'Clinton',\n",
              " ',',\n",
              " 'President',\n",
              " 'Bush',\n",
              " ',',\n",
              " 'President',\n",
              " 'Obama',\n",
              " ',',\n",
              " 'fellow',\n",
              " 'Americans',\n",
              " ',',\n",
              " 'and',\n",
              " 'people',\n",
              " 'of',\n",
              " 'the',\n",
              " 'world',\n",
              " ':',\n",
              " 'Thank',\n",
              " 'you',\n",
              " '.',\n",
              " 'We',\n",
              " ',',\n",
              " 'the',\n",
              " 'citizens',\n",
              " 'of',\n",
              " 'America',\n",
              " ',',\n",
              " 'are',\n",
              " 'now',\n",
              " 'joined',\n",
              " 'in',\n",
              " 'a',\n",
              " 'great',\n",
              " 'national',\n",
              " 'effort',\n",
              " 'to',\n",
              " 'rebuild',\n",
              " 'our',\n",
              " 'country',\n",
              " 'and',\n",
              " 'restore',\n",
              " 'its',\n",
              " 'promise',\n",
              " 'for',\n",
              " 'all',\n",
              " 'of',\n",
              " 'our',\n",
              " 'people',\n",
              " '.',\n",
              " 'Together',\n",
              " ',',\n",
              " 'we',\n",
              " 'will',\n",
              " 'determine',\n",
              " 'the',\n",
              " 'course',\n",
              " 'of',\n",
              " 'America',\n",
              " 'and',\n",
              " 'the',\n",
              " 'world',\n",
              " 'for',\n",
              " 'many',\n",
              " ',',\n",
              " 'many',\n",
              " 'years',\n",
              " 'to',\n",
              " 'come',\n",
              " '.',\n",
              " 'We',\n",
              " 'will',\n",
              " 'face',\n",
              " 'challenges',\n",
              " ',',\n",
              " 'we',\n",
              " 'will',\n",
              " 'confront',\n",
              " 'hardships',\n",
              " ',',\n",
              " 'but',\n",
              " 'we',\n",
              " 'will',\n",
              " 'get',\n",
              " 'the',\n",
              " 'job',\n",
              " 'done',\n",
              " '.',\n",
              " 'Every',\n",
              " '4',\n",
              " 'years',\n",
              " ',',\n",
              " 'we']"
            ]
          },
          "metadata": {},
          "execution_count": 25
        }
      ]
    },
    {
      "cell_type": "markdown",
      "source": [
        "22 dec"
      ],
      "metadata": {
        "id": "89jdpKFGyeuU"
      }
    },
    {
      "cell_type": "markdown",
      "source": [
        "text1 = 'Quick brown fox jumps over the lazy dog' "
      ],
      "metadata": {
        "id": "vaG4aspExqW_"
      }
    },
    {
      "cell_type": "code",
      "source": [
        "text1 = 'Quick brown fox jumps over the lazy dog' \n",
        "fd= nltk.FreqDist(text1.split())"
      ],
      "metadata": {
        "id": "zIUf1PaKxuMR"
      },
      "execution_count": null,
      "outputs": []
    },
    {
      "cell_type": "code",
      "source": [
        "fd"
      ],
      "metadata": {
        "colab": {
          "base_uri": "https://localhost:8080/"
        },
        "id": "KB34_LE7x6MQ",
        "outputId": "7934724d-5942-4653-930e-f340572f154c"
      },
      "execution_count": null,
      "outputs": [
        {
          "output_type": "execute_result",
          "data": {
            "text/plain": [
              "FreqDist({'Quick': 1, 'brown': 1, 'fox': 1, 'jumps': 1, 'over': 1, 'the': 1, 'lazy': 1, 'dog': 1})"
            ]
          },
          "metadata": {},
          "execution_count": 27
        }
      ]
    },
    {
      "cell_type": "code",
      "source": [
        "from nltk.probability import ConditionalFreqDist"
      ],
      "metadata": {
        "id": "UQDs5ig-yHAC"
      },
      "execution_count": null,
      "outputs": []
    },
    {
      "cell_type": "code",
      "source": [
        "cfd = ConditionalFreqDist((len(word), word) for word in text1.split())\n",
        "cfd[4]"
      ],
      "metadata": {
        "colab": {
          "base_uri": "https://localhost:8080/"
        },
        "id": "N8q-alGIyNac",
        "outputId": "0ecce3d6-e192-44fc-b9a9-4e3ab8eaf83c"
      },
      "execution_count": null,
      "outputs": [
        {
          "output_type": "execute_result",
          "data": {
            "text/plain": [
              "FreqDist({'over': 1, 'lazy': 1})"
            ]
          },
          "metadata": {},
          "execution_count": 29
        }
      ]
    },
    {
      "cell_type": "code",
      "source": [
        "import jieba"
      ],
      "metadata": {
        "id": "HEt7oJSuyhUX"
      },
      "execution_count": null,
      "outputs": []
    },
    {
      "cell_type": "code",
      "source": [
        "seg = jieba.cut(\" CHINESE TEXT\", cut_all = True)\n",
        "print(\" \".join(seg))"
      ],
      "metadata": {
        "colab": {
          "base_uri": "https://localhost:8080/"
        },
        "id": "V8KzWFRWynlK",
        "outputId": "b43034e8-185b-4cfa-f26c-3bd202809404"
      },
      "execution_count": null,
      "outputs": [
        {
          "output_type": "stream",
          "name": "stderr",
          "text": [
            "Building prefix dict from the default dictionary ...\n",
            "DEBUG:jieba:Building prefix dict from the default dictionary ...\n",
            "Dumping model to file cache /tmp/jieba.cache\n",
            "DEBUG:jieba:Dumping model to file cache /tmp/jieba.cache\n",
            "Loading model cost 0.951 seconds.\n",
            "DEBUG:jieba:Loading model cost 0.951 seconds.\n",
            "Prefix dict has been built successfully.\n",
            "DEBUG:jieba:Prefix dict has been built successfully.\n"
          ]
        },
        {
          "output_type": "stream",
          "name": "stdout",
          "text": [
            "    CHINESE     TEXT\n"
          ]
        }
      ]
    },
    {
      "cell_type": "code",
      "source": [
        "import nltk\n",
        "nltk.download('punkt')\n",
        "sent = \"Become an expert in NLP\"\n",
        "words = nltk.word_tokenize(sent)\n",
        "print(words)"
      ],
      "metadata": {
        "colab": {
          "base_uri": "https://localhost:8080/"
        },
        "id": "HfSDIT9Oyw37",
        "outputId": "7dd3bf1d-3764-40d5-8d7b-9dd8dd130552"
      },
      "execution_count": null,
      "outputs": [
        {
          "output_type": "stream",
          "name": "stdout",
          "text": [
            "['Become', 'an', 'expert', 'in', 'NLP']\n"
          ]
        },
        {
          "output_type": "stream",
          "name": "stderr",
          "text": [
            "[nltk_data] Downloading package punkt to /root/nltk_data...\n",
            "[nltk_data]   Package punkt is already up-to-date!\n"
          ]
        }
      ]
    },
    {
      "cell_type": "markdown",
      "source": [
        "13th jan\n"
      ],
      "metadata": {
        "id": "UlWb-vzpzOzR"
      }
    },
    {
      "cell_type": "code",
      "source": [
        "from nltk.corpus import names\n",
        "import nltk\n",
        "nltk.download('names')\n",
        "labeled_names = ([(name, 'male') for name in names.words('male.txt')])"
      ],
      "metadata": {
        "colab": {
          "base_uri": "https://localhost:8080/"
        },
        "id": "ER3YLvnwzbCV",
        "outputId": "8d532c6f-5c44-48f1-c0a2-552843ea1f98"
      },
      "execution_count": null,
      "outputs": [
        {
          "output_type": "stream",
          "name": "stderr",
          "text": [
            "[nltk_data] Downloading package names to /root/nltk_data...\n",
            "[nltk_data]   Unzipping corpora/names.zip.\n"
          ]
        }
      ]
    },
    {
      "cell_type": "code",
      "source": [
        "import random\n",
        "random.shuffle(labeled_names)\n",
        "labeled_names\n"
      ],
      "metadata": {
        "colab": {
          "base_uri": "https://localhost:8080/"
        },
        "id": "WQS9hdEuzjkw",
        "outputId": "63bb4bcb-5538-432c-88da-ccae846f84ac"
      },
      "execution_count": null,
      "outputs": [
        {
          "output_type": "execute_result",
          "data": {
            "text/plain": [
              "[('Nevil', 'male'),\n",
              " ('Perry', 'male'),\n",
              " ('Ignatius', 'male'),\n",
              " ('Whit', 'male'),\n",
              " ('Trace', 'male'),\n",
              " ('Wilber', 'male'),\n",
              " ('Smitty', 'male'),\n",
              " ('Hogan', 'male'),\n",
              " ('Yankee', 'male'),\n",
              " ('Horatio', 'male'),\n",
              " ('Elihu', 'male'),\n",
              " ('Stu', 'male'),\n",
              " ('Istvan', 'male'),\n",
              " ('Heywood', 'male'),\n",
              " ('Lionel', 'male'),\n",
              " ('Marvin', 'male'),\n",
              " ('Tabby', 'male'),\n",
              " ('Avraham', 'male'),\n",
              " ('Ford', 'male'),\n",
              " ('Edward', 'male'),\n",
              " ('Irwin', 'male'),\n",
              " ('Earl', 'male'),\n",
              " ('Eddy', 'male'),\n",
              " ('Theo', 'male'),\n",
              " ('Guy', 'male'),\n",
              " ('Apostolos', 'male'),\n",
              " ('Torrey', 'male'),\n",
              " ('Marve', 'male'),\n",
              " ('Wilfred', 'male'),\n",
              " ('Jethro', 'male'),\n",
              " ('Orazio', 'male'),\n",
              " ('Spense', 'male'),\n",
              " ('Keene', 'male'),\n",
              " ('Aleck', 'male'),\n",
              " ('Mauritz', 'male'),\n",
              " ('Sanson', 'male'),\n",
              " ('Finn', 'male'),\n",
              " ('Flint', 'male'),\n",
              " ('Giorgio', 'male'),\n",
              " ('Lewis', 'male'),\n",
              " ('Gearard', 'male'),\n",
              " ('Yacov', 'male'),\n",
              " ('Jeremias', 'male'),\n",
              " ('Angel', 'male'),\n",
              " ('Alic', 'male'),\n",
              " ('Logan', 'male'),\n",
              " ('Alfonso', 'male'),\n",
              " ('Hercules', 'male'),\n",
              " ('Harold', 'male'),\n",
              " ('Niels', 'male'),\n",
              " ('Major', 'male'),\n",
              " ('Allin', 'male'),\n",
              " ('Cletus', 'male'),\n",
              " ('Murdoch', 'male'),\n",
              " ('Edmund', 'male'),\n",
              " ('Agamemnon', 'male'),\n",
              " ('Kin', 'male'),\n",
              " ('Emmanuel', 'male'),\n",
              " ('Gabriele', 'male'),\n",
              " ('Husain', 'male'),\n",
              " ('Grover', 'male'),\n",
              " ('Phil', 'male'),\n",
              " ('Tymothy', 'male'),\n",
              " ('Shanan', 'male'),\n",
              " ('Tremayne', 'male'),\n",
              " ('Parnell', 'male'),\n",
              " ('Mohammed', 'male'),\n",
              " ('Tobin', 'male'),\n",
              " ('Steven', 'male'),\n",
              " ('Shepperd', 'male'),\n",
              " ('Freemon', 'male'),\n",
              " ('Ric', 'male'),\n",
              " ('Claude', 'male'),\n",
              " ('Abdullah', 'male'),\n",
              " ('Errol', 'male'),\n",
              " ('Nigel', 'male'),\n",
              " ('Stig', 'male'),\n",
              " ('Hewet', 'male'),\n",
              " ('Jared', 'male'),\n",
              " ('Waylan', 'male'),\n",
              " ('Artur', 'male'),\n",
              " ('Heathcliff', 'male'),\n",
              " ('Lin', 'male'),\n",
              " ('Northrup', 'male'),\n",
              " ('Barthel', 'male'),\n",
              " ('Georgy', 'male'),\n",
              " ('Eddie', 'male'),\n",
              " ('Trevar', 'male'),\n",
              " ('Winthrop', 'male'),\n",
              " ('Trey', 'male'),\n",
              " ('Kane', 'male'),\n",
              " ('Hernando', 'male'),\n",
              " ('Gibb', 'male'),\n",
              " ('Madison', 'male'),\n",
              " ('Julio', 'male'),\n",
              " ('Federico', 'male'),\n",
              " ('Berkie', 'male'),\n",
              " ('Hebert', 'male'),\n",
              " ('Piotr', 'male'),\n",
              " ('Antonius', 'male'),\n",
              " ('Reynolds', 'male'),\n",
              " ('Antonio', 'male'),\n",
              " ('Elliot', 'male'),\n",
              " ('Bucky', 'male'),\n",
              " ('Lloyd', 'male'),\n",
              " ('Timmie', 'male'),\n",
              " ('Lesley', 'male'),\n",
              " ('Ward', 'male'),\n",
              " ('Erek', 'male'),\n",
              " ('Jens', 'male'),\n",
              " ('Sergeant', 'male'),\n",
              " ('Steffen', 'male'),\n",
              " ('Socrates', 'male'),\n",
              " ('Ibrahim', 'male'),\n",
              " ('Fremont', 'male'),\n",
              " ('Guthry', 'male'),\n",
              " ('Joao', 'male'),\n",
              " ('Fergus', 'male'),\n",
              " ('Levin', 'male'),\n",
              " ('Avi', 'male'),\n",
              " ('Brent', 'male'),\n",
              " ('Jerrome', 'male'),\n",
              " ('Roddy', 'male'),\n",
              " ('Igor', 'male'),\n",
              " ('Marc', 'male'),\n",
              " ('Weider', 'male'),\n",
              " ('Hewett', 'male'),\n",
              " ('Roderigo', 'male'),\n",
              " ('Kaspar', 'male'),\n",
              " ('Terence', 'male'),\n",
              " ('Iggy', 'male'),\n",
              " ('Boniface', 'male'),\n",
              " ('Mortimer', 'male'),\n",
              " ('Hilton', 'male'),\n",
              " ('Hershel', 'male'),\n",
              " ('Benedict', 'male'),\n",
              " ('Skye', 'male'),\n",
              " ('Christof', 'male'),\n",
              " ('Tibold', 'male'),\n",
              " ('Odie', 'male'),\n",
              " ('Ingemar', 'male'),\n",
              " ('Hall', 'male'),\n",
              " ('Scottie', 'male'),\n",
              " ('Emmit', 'male'),\n",
              " ('Townsend', 'male'),\n",
              " ('Sivert', 'male'),\n",
              " ('Ray', 'male'),\n",
              " ('Prent', 'male'),\n",
              " ('Ichabod', 'male'),\n",
              " ('Aristotle', 'male'),\n",
              " ('Reed', 'male'),\n",
              " ('Delmar', 'male'),\n",
              " ('Jephthah', 'male'),\n",
              " ('Lucas', 'male'),\n",
              " ('Zacherie', 'male'),\n",
              " ('Hyatt', 'male'),\n",
              " ('Pierce', 'male'),\n",
              " ('Winnie', 'male'),\n",
              " ('Wyatt', 'male'),\n",
              " ('Jerald', 'male'),\n",
              " ('Hasty', 'male'),\n",
              " ('Osgood', 'male'),\n",
              " ('Egbert', 'male'),\n",
              " ('Dillon', 'male'),\n",
              " ('Ari', 'male'),\n",
              " ('Jean-Christophe', 'male'),\n",
              " ('Miguel', 'male'),\n",
              " ('Danie', 'male'),\n",
              " ('Magnum', 'male'),\n",
              " ('Kip', 'male'),\n",
              " ('Durward', 'male'),\n",
              " ('Zalman', 'male'),\n",
              " ('Goose', 'male'),\n",
              " ('Mitch', 'male'),\n",
              " ('Hadrian', 'male'),\n",
              " ('Kim', 'male'),\n",
              " ('Alessandro', 'male'),\n",
              " ('Moises', 'male'),\n",
              " ('Tynan', 'male'),\n",
              " ('Manny', 'male'),\n",
              " ('Bartholomew', 'male'),\n",
              " ('Bennet', 'male'),\n",
              " ('Frans', 'male'),\n",
              " ('Dwain', 'male'),\n",
              " ('Abbie', 'male'),\n",
              " ('Hunter', 'male'),\n",
              " ('Thorndike', 'male'),\n",
              " ('Mike', 'male'),\n",
              " ('Luigi', 'male'),\n",
              " ('Shamus', 'male'),\n",
              " ('William', 'male'),\n",
              " ('Redmond', 'male'),\n",
              " ('Mitchael', 'male'),\n",
              " ('Trip', 'male'),\n",
              " ('Gustav', 'male'),\n",
              " ('Erin', 'male'),\n",
              " ('Fitzgerald', 'male'),\n",
              " ('Ambrosius', 'male'),\n",
              " ('Markus', 'male'),\n",
              " ('Claudio', 'male'),\n",
              " ('Anatollo', 'male'),\n",
              " ('Syd', 'male'),\n",
              " ('Doyle', 'male'),\n",
              " ('Ewan', 'male'),\n",
              " ('Rocky', 'male'),\n",
              " ('Fred', 'male'),\n",
              " ('Earle', 'male'),\n",
              " ('Gunther', 'male'),\n",
              " ('Jo', 'male'),\n",
              " ('Avery', 'male'),\n",
              " ('Bard', 'male'),\n",
              " ('Son', 'male'),\n",
              " ('Haskel', 'male'),\n",
              " ('Jabez', 'male'),\n",
              " ('Ignacio', 'male'),\n",
              " ('Giraldo', 'male'),\n",
              " ('Judas', 'male'),\n",
              " ('Aub', 'male'),\n",
              " ('Barny', 'male'),\n",
              " ('Nevile', 'male'),\n",
              " ('Melvin', 'male'),\n",
              " ('Fazeel', 'male'),\n",
              " ('Mikey', 'male'),\n",
              " ('Davide', 'male'),\n",
              " ('Pembroke', 'male'),\n",
              " ('Eduard', 'male'),\n",
              " ('Dietrich', 'male'),\n",
              " ('Kincaid', 'male'),\n",
              " ('Obie', 'male'),\n",
              " ('Darwin', 'male'),\n",
              " ('Vinnie', 'male'),\n",
              " ('Richard', 'male'),\n",
              " ('Jere', 'male'),\n",
              " ('Beowulf', 'male'),\n",
              " ('Wildon', 'male'),\n",
              " ('Taddeus', 'male'),\n",
              " ('Bentley', 'male'),\n",
              " ('Sheffy', 'male'),\n",
              " ('Rabbi', 'male'),\n",
              " ('Ishmael', 'male'),\n",
              " ('Forrester', 'male'),\n",
              " ('Stanfield', 'male'),\n",
              " ('Herb', 'male'),\n",
              " ('Dmitri', 'male'),\n",
              " ('Joseph', 'male'),\n",
              " ('Edgar', 'male'),\n",
              " ('Caryl', 'male'),\n",
              " ('Rochester', 'male'),\n",
              " ('Maxwell', 'male'),\n",
              " ('Collin', 'male'),\n",
              " ('Hew', 'male'),\n",
              " ('Laurens', 'male'),\n",
              " ('Vernen', 'male'),\n",
              " ('Meredeth', 'male'),\n",
              " ('Napoleon', 'male'),\n",
              " ('Wain', 'male'),\n",
              " ('Geo', 'male'),\n",
              " ('Beau', 'male'),\n",
              " ('Red', 'male'),\n",
              " ('Cody', 'male'),\n",
              " ('French', 'male'),\n",
              " ('Mikael', 'male'),\n",
              " ('Udale', 'male'),\n",
              " ('Elias', 'male'),\n",
              " ('Temp', 'male'),\n",
              " ('Thorn', 'male'),\n",
              " ('Jed', 'male'),\n",
              " ('Town', 'male'),\n",
              " ('Ignaz', 'male'),\n",
              " ('Benton', 'male'),\n",
              " ('Kris', 'male'),\n",
              " ('Bertram', 'male'),\n",
              " ('Quiggly', 'male'),\n",
              " ('Brendan', 'male'),\n",
              " ('Cass', 'male'),\n",
              " ('Raymond', 'male'),\n",
              " ('Tabbie', 'male'),\n",
              " ('Burl', 'male'),\n",
              " ('Wallie', 'male'),\n",
              " ('Yance', 'male'),\n",
              " ('Uriah', 'male'),\n",
              " ('Jesse', 'male'),\n",
              " ('Hermann', 'male'),\n",
              " ('Christie', 'male'),\n",
              " ('Orion', 'male'),\n",
              " ('Ulrick', 'male'),\n",
              " ('Daryl', 'male'),\n",
              " ('Maxfield', 'male'),\n",
              " ('Preston', 'male'),\n",
              " ('Thurston', 'male'),\n",
              " ('Tanner', 'male'),\n",
              " ('Michael', 'male'),\n",
              " ('Humphrey', 'male'),\n",
              " ('Bay', 'male'),\n",
              " ('Lukas', 'male'),\n",
              " ('Charleton', 'male'),\n",
              " ('Garfinkel', 'male'),\n",
              " ('Donnie', 'male'),\n",
              " ('Bing', 'male'),\n",
              " ('Mordecai', 'male'),\n",
              " ('Nathaniel', 'male'),\n",
              " ('Damian', 'male'),\n",
              " ('Ruben', 'male'),\n",
              " ('Merlin', 'male'),\n",
              " ('Lockwood', 'male'),\n",
              " ('Helmuth', 'male'),\n",
              " ('Luther', 'male'),\n",
              " ('Nickolas', 'male'),\n",
              " ('Gaven', 'male'),\n",
              " ('Tore', 'male'),\n",
              " ('Franz', 'male'),\n",
              " ('Christos', 'male'),\n",
              " ('Warde', 'male'),\n",
              " ('Josh', 'male'),\n",
              " ('Venkat', 'male'),\n",
              " ('Irvin', 'male'),\n",
              " ('Yaakov', 'male'),\n",
              " ('Whitby', 'male'),\n",
              " ('Roderick', 'male'),\n",
              " ('Adolf', 'male'),\n",
              " ('Dory', 'male'),\n",
              " ('Sawyer', 'male'),\n",
              " ('Mustafa', 'male'),\n",
              " ('Gill', 'male'),\n",
              " ('Hermon', 'male'),\n",
              " ('Arlo', 'male'),\n",
              " ('Curtice', 'male'),\n",
              " ('Witty', 'male'),\n",
              " ('Salomone', 'male'),\n",
              " ('Frederico', 'male'),\n",
              " ('Clayborn', 'male'),\n",
              " ('Floyd', 'male'),\n",
              " ('Wesley', 'male'),\n",
              " ('Terry', 'male'),\n",
              " ('Giuseppe', 'male'),\n",
              " ('Nathanil', 'male'),\n",
              " ('Kostas', 'male'),\n",
              " ('Curt', 'male'),\n",
              " ('Jehu', 'male'),\n",
              " ('Rodolfo', 'male'),\n",
              " ('Jefry', 'male'),\n",
              " ('Cammy', 'male'),\n",
              " ('Rob', 'male'),\n",
              " ('Clement', 'male'),\n",
              " ('Elmore', 'male'),\n",
              " ('Fleming', 'male'),\n",
              " ('August', 'male'),\n",
              " ('Salvatore', 'male'),\n",
              " ('Ewart', 'male'),\n",
              " ('Emery', 'male'),\n",
              " ('Moore', 'male'),\n",
              " ('Quinn', 'male'),\n",
              " ('Juergen', 'male'),\n",
              " ('Jean-Francois', 'male'),\n",
              " ('Blayne', 'male'),\n",
              " ('Eberhard', 'male'),\n",
              " ('Dennis', 'male'),\n",
              " ('Salomo', 'male'),\n",
              " ('Hagan', 'male'),\n",
              " ('Dean', 'male'),\n",
              " ('Sandy', 'male'),\n",
              " ('Derrin', 'male'),\n",
              " ('Patrick', 'male'),\n",
              " ('Arturo', 'male'),\n",
              " ('Broddy', 'male'),\n",
              " ('Timotheus', 'male'),\n",
              " ('Welbie', 'male'),\n",
              " ('Pincus', 'male'),\n",
              " ('Kraig', 'male'),\n",
              " ('Hasheem', 'male'),\n",
              " ('Matt', 'male'),\n",
              " ('Tyrone', 'male'),\n",
              " ('Patty', 'male'),\n",
              " ('Lance', 'male'),\n",
              " ('Sayre', 'male'),\n",
              " ('Humbert', 'male'),\n",
              " ('Fitz', 'male'),\n",
              " ('Kristian', 'male'),\n",
              " ('Sander', 'male'),\n",
              " ('Nickie', 'male'),\n",
              " ('Donn', 'male'),\n",
              " ('Renaldo', 'male'),\n",
              " ('Stanly', 'male'),\n",
              " ('Aleksandrs', 'male'),\n",
              " ('Rhett', 'male'),\n",
              " ('Guido', 'male'),\n",
              " ('Christoph', 'male'),\n",
              " ('Nels', 'male'),\n",
              " ('Bernardo', 'male'),\n",
              " ('Maury', 'male'),\n",
              " ('Ellwood', 'male'),\n",
              " ('Christ', 'male'),\n",
              " ('Brooke', 'male'),\n",
              " ('Pail', 'male'),\n",
              " ('Yank', 'male'),\n",
              " ('Alford', 'male'),\n",
              " ('Vladimir', 'male'),\n",
              " ('Jon', 'male'),\n",
              " ('Udall', 'male'),\n",
              " ('Benjamin', 'male'),\n",
              " ('Shannan', 'male'),\n",
              " ('Titus', 'male'),\n",
              " ('Lucian', 'male'),\n",
              " ('Kristos', 'male'),\n",
              " ('Archibold', 'male'),\n",
              " ('Winifield', 'male'),\n",
              " ('Clay', 'male'),\n",
              " ('Penn', 'male'),\n",
              " ('Virge', 'male'),\n",
              " ('Vic', 'male'),\n",
              " ('Elden', 'male'),\n",
              " ('George', 'male'),\n",
              " ('Sanford', 'male'),\n",
              " ('Rex', 'male'),\n",
              " ('Benji', 'male'),\n",
              " ('Leonid', 'male'),\n",
              " ('Gilburt', 'male'),\n",
              " ('Husein', 'male'),\n",
              " ('Thorpe', 'male'),\n",
              " ('Ambrosio', 'male'),\n",
              " ('Emmet', 'male'),\n",
              " ('Alfonzo', 'male'),\n",
              " ('Layton', 'male'),\n",
              " ('Duffie', 'male'),\n",
              " ('Gabe', 'male'),\n",
              " ('Sterling', 'male'),\n",
              " ('Burt', 'male'),\n",
              " ('Waldo', 'male'),\n",
              " ('Hiralal', 'male'),\n",
              " ('Rudy', 'male'),\n",
              " ('Victor', 'male'),\n",
              " ('Osmond', 'male'),\n",
              " ('Hillery', 'male'),\n",
              " ('Cobb', 'male'),\n",
              " ('Rowland', 'male'),\n",
              " ('Ephrem', 'male'),\n",
              " ('Ignazio', 'male'),\n",
              " ('Jody', 'male'),\n",
              " ('Johnny', 'male'),\n",
              " ('Fulton', 'male'),\n",
              " ('Cosmo', 'male'),\n",
              " ('Bartolemo', 'male'),\n",
              " ('Levy', 'male'),\n",
              " ('Ted', 'male'),\n",
              " ('Uli', 'male'),\n",
              " ('Bruce', 'male'),\n",
              " ('Clifton', 'male'),\n",
              " ('Gregg', 'male'),\n",
              " ('Nicky', 'male'),\n",
              " ('Calvin', 'male'),\n",
              " ('Tobias', 'male'),\n",
              " ('Raul', 'male'),\n",
              " ('Teodoor', 'male'),\n",
              " ('Rich', 'male'),\n",
              " ('Hastings', 'male'),\n",
              " ('Juan', 'male'),\n",
              " ('Isaac', 'male'),\n",
              " ('Dwight', 'male'),\n",
              " ('Zachary', 'male'),\n",
              " ('Gav', 'male'),\n",
              " ('Godfree', 'male'),\n",
              " ('Nathan', 'male'),\n",
              " ('Sol', 'male'),\n",
              " ('Sim', 'male'),\n",
              " ('Izzy', 'male'),\n",
              " ('Jean', 'male'),\n",
              " ('Darrell', 'male'),\n",
              " ('Reg', 'male'),\n",
              " ('Giancarlo', 'male'),\n",
              " ('Hamlen', 'male'),\n",
              " ('Tabor', 'male'),\n",
              " ('Fernando', 'male'),\n",
              " ('Sunny', 'male'),\n",
              " ('Felicio', 'male'),\n",
              " ('Abby', 'male'),\n",
              " ('Wes', 'male'),\n",
              " ('Gamaliel', 'male'),\n",
              " ('Merrill', 'male'),\n",
              " ('Clark', 'male'),\n",
              " ('Shurwood', 'male'),\n",
              " ('Bill', 'male'),\n",
              " ('Verne', 'male'),\n",
              " ('Gasper', 'male'),\n",
              " ('Edwin', 'male'),\n",
              " ('Micky', 'male'),\n",
              " ('Zedekiah', 'male'),\n",
              " ('Herbert', 'male'),\n",
              " ('Gordon', 'male'),\n",
              " ('Nico', 'male'),\n",
              " ('Anselm', 'male'),\n",
              " ('Zachery', 'male'),\n",
              " ('Patricio', 'male'),\n",
              " ('Alberto', 'male'),\n",
              " ('Chad', 'male'),\n",
              " ('Chaddy', 'male'),\n",
              " ('Michail', 'male'),\n",
              " ('Linoel', 'male'),\n",
              " ('Leighton', 'male'),\n",
              " ('Gail', 'male'),\n",
              " ('Siegfried', 'male'),\n",
              " ('Roderich', 'male'),\n",
              " ('Bartie', 'male'),\n",
              " ('Wilbert', 'male'),\n",
              " ('Gabriell', 'male'),\n",
              " ('Jerrold', 'male'),\n",
              " ('Sullivan', 'male'),\n",
              " ('Jakob', 'male'),\n",
              " ('Jake', 'male'),\n",
              " ('Woodrow', 'male'),\n",
              " ('Virgie', 'male'),\n",
              " ('Lorrie', 'male'),\n",
              " ('Lemmie', 'male'),\n",
              " ('Hollis', 'male'),\n",
              " ('Domenic', 'male'),\n",
              " ('Shelden', 'male'),\n",
              " ('Carson', 'male'),\n",
              " ('Ryan', 'male'),\n",
              " ('Ave', 'male'),\n",
              " ('Apollo', 'male'),\n",
              " ('Waldon', 'male'),\n",
              " ('Dwaine', 'male'),\n",
              " ('Andri', 'male'),\n",
              " ('Morris', 'male'),\n",
              " ('Stefan', 'male'),\n",
              " ('Huntlee', 'male'),\n",
              " ('Davon', 'male'),\n",
              " ('Desmond', 'male'),\n",
              " ('Willard', 'male'),\n",
              " ('Albrecht', 'male'),\n",
              " ('Casey', 'male'),\n",
              " ('Chevy', 'male'),\n",
              " ('Silvano', 'male'),\n",
              " ('Devin', 'male'),\n",
              " ('Kurt', 'male'),\n",
              " ('Vinny', 'male'),\n",
              " ('Terrell', 'male'),\n",
              " ('Robin', 'male'),\n",
              " ('Richy', 'male'),\n",
              " ('Ingmar', 'male'),\n",
              " ('Boyd', 'male'),\n",
              " ('Spencer', 'male'),\n",
              " ('Tom', 'male'),\n",
              " ('Josiah', 'male'),\n",
              " ('Nevin', 'male'),\n",
              " ('Caldwell', 'male'),\n",
              " ('Welch', 'male'),\n",
              " ('Witold', 'male'),\n",
              " ('Drew', 'male'),\n",
              " ('Franklyn', 'male'),\n",
              " ('Ulric', 'male'),\n",
              " ('Scotty', 'male'),\n",
              " ('Carlo', 'male'),\n",
              " ('Bogdan', 'male'),\n",
              " ('Myke', 'male'),\n",
              " ('Steward', 'male'),\n",
              " ('Rodolph', 'male'),\n",
              " ('Kelvin', 'male'),\n",
              " ('Roosevelt', 'male'),\n",
              " ('Jamey', 'male'),\n",
              " ('Immanuel', 'male'),\n",
              " ('Georgie', 'male'),\n",
              " ('Aubrey', 'male'),\n",
              " ('Keefe', 'male'),\n",
              " ('Adolpho', 'male'),\n",
              " ('Gershom', 'male'),\n",
              " ('Gary', 'male'),\n",
              " ('Moe', 'male'),\n",
              " ('Zeke', 'male'),\n",
              " ('Ev', 'male'),\n",
              " ('Dunc', 'male'),\n",
              " ('Sly', 'male'),\n",
              " ('Mendie', 'male'),\n",
              " ('Jerry', 'male'),\n",
              " ('Hersch', 'male'),\n",
              " ('Hugo', 'male'),\n",
              " ('Torrence', 'male'),\n",
              " ('Ritchie', 'male'),\n",
              " ('Mohammad', 'male'),\n",
              " ('Wallache', 'male'),\n",
              " ('Clyde', 'male'),\n",
              " ('Monty', 'male'),\n",
              " ('Hayden', 'male'),\n",
              " ('Park', 'male'),\n",
              " ('Slade', 'male'),\n",
              " ('Merell', 'male'),\n",
              " ('Francois', 'male'),\n",
              " ('Oral', 'male'),\n",
              " ('Samson', 'male'),\n",
              " ('Dimitrios', 'male'),\n",
              " ('Sayres', 'male'),\n",
              " ('Herrick', 'male'),\n",
              " ('Greggory', 'male'),\n",
              " ('Marmaduke', 'male'),\n",
              " ('Emanuel', 'male'),\n",
              " ('Gerhardt', 'male'),\n",
              " ('Phineas', 'male'),\n",
              " ('Bobby', 'male'),\n",
              " ('Ernest', 'male'),\n",
              " ('Ajai', 'male'),\n",
              " ('Trent', 'male'),\n",
              " ('Marlowe', 'male'),\n",
              " ('Mohamed', 'male'),\n",
              " ('Bailey', 'male'),\n",
              " ('Andrew', 'male'),\n",
              " ('Jeramie', 'male'),\n",
              " ('Sholom', 'male'),\n",
              " ('Tann', 'male'),\n",
              " ('Raymundo', 'male'),\n",
              " ('Blare', 'male'),\n",
              " ('Han', 'male'),\n",
              " ('Kenyon', 'male'),\n",
              " ('Cris', 'male'),\n",
              " ('Wilek', 'male'),\n",
              " ('Ollie', 'male'),\n",
              " ('Harmon', 'male'),\n",
              " ('Raynard', 'male'),\n",
              " ('Joachim', 'male'),\n",
              " ('Moise', 'male'),\n",
              " ('Ferdy', 'male'),\n",
              " ('Gabriel', 'male'),\n",
              " ('Fletch', 'male'),\n",
              " ('Nolan', 'male'),\n",
              " ('Noble', 'male'),\n",
              " ('Shelley', 'male'),\n",
              " ('Dannie', 'male'),\n",
              " ('Milo', 'male'),\n",
              " ('Aharon', 'male'),\n",
              " ('Murray', 'male'),\n",
              " ('Kendrick', 'male'),\n",
              " ('Elwood', 'male'),\n",
              " ('Salvador', 'male'),\n",
              " ('Flin', 'male'),\n",
              " ('Freddie', 'male'),\n",
              " ('Wallace', 'male'),\n",
              " ('Mac', 'male'),\n",
              " ('Theophyllus', 'male'),\n",
              " ('Rafael', 'male'),\n",
              " ('Shaw', 'male'),\n",
              " ('Sheff', 'male'),\n",
              " ('Flinn', 'male'),\n",
              " ('Seth', 'male'),\n",
              " ('Felice', 'male'),\n",
              " ('Tait', 'male'),\n",
              " ('Ximenez', 'male'),\n",
              " ('Mart', 'male'),\n",
              " ('Lawson', 'male'),\n",
              " ('Lorne', 'male'),\n",
              " ('Jules', 'male'),\n",
              " ('Lennie', 'male'),\n",
              " ('Dick', 'male'),\n",
              " ('Carlton', 'male'),\n",
              " ('Quinlan', 'male'),\n",
              " ('Garcon', 'male'),\n",
              " ('Stanislaw', 'male'),\n",
              " ('Philip', 'male'),\n",
              " ('Addie', 'male'),\n",
              " ('Lester', 'male'),\n",
              " ('Gunter', 'male'),\n",
              " ('Nilson', 'male'),\n",
              " ('Wendall', 'male'),\n",
              " ('Harvie', 'male'),\n",
              " ('Roth', 'male'),\n",
              " ('Wheeler', 'male'),\n",
              " ('Lew', 'male'),\n",
              " ('Ferguson', 'male'),\n",
              " ('Shepard', 'male'),\n",
              " ('Johnathan', 'male'),\n",
              " ('Peyter', 'male'),\n",
              " ('Friedric', 'male'),\n",
              " ('Thom', 'male'),\n",
              " ('Brice', 'male'),\n",
              " ('Giavani', 'male'),\n",
              " ('Alonzo', 'male'),\n",
              " ('Oliver', 'male'),\n",
              " ('Gene', 'male'),\n",
              " ('Gabriello', 'male'),\n",
              " ('Thornton', 'male'),\n",
              " ('Judy', 'male'),\n",
              " ('Duffy', 'male'),\n",
              " ('Tracy', 'male'),\n",
              " ('Archibald', 'male'),\n",
              " ('Pepe', 'male'),\n",
              " ('Stephan', 'male'),\n",
              " ('Barnard', 'male'),\n",
              " ('Andrzej', 'male'),\n",
              " ('Stan', 'male'),\n",
              " ('Vasili', 'male'),\n",
              " ('Tyrus', 'male'),\n",
              " ('Travers', 'male'),\n",
              " ('Saxon', 'male'),\n",
              " ('Vasily', 'male'),\n",
              " ('Barde', 'male'),\n",
              " ('Jacob', 'male'),\n",
              " ('Percival', 'male'),\n",
              " ('Randolf', 'male'),\n",
              " ('Kingsly', 'male'),\n",
              " ('Vassili', 'male'),\n",
              " ('Aldrich', 'male'),\n",
              " ('Roice', 'male'),\n",
              " ('Titos', 'male'),\n",
              " ('Leland', 'male'),\n",
              " ('Morley', 'male'),\n",
              " ('Ephraim', 'male'),\n",
              " ('Darrick', 'male'),\n",
              " ('Sherwood', 'male'),\n",
              " ('Klaus', 'male'),\n",
              " ('Gayle', 'male'),\n",
              " ('Randie', 'male'),\n",
              " ('Walther', 'male'),\n",
              " ('Saunders', 'male'),\n",
              " ('Laurence', 'male'),\n",
              " ('Shlomo', 'male'),\n",
              " ('Herve', 'male'),\n",
              " ('Kent', 'male'),\n",
              " ('Hadley', 'male'),\n",
              " ('Colbert', 'male'),\n",
              " ('Elwyn', 'male'),\n",
              " ('Godwin', 'male'),\n",
              " ('Clare', 'male'),\n",
              " ('Langston', 'male'),\n",
              " ('Darian', 'male'),\n",
              " ('Walton', 'male'),\n",
              " ('Bealle', 'male'),\n",
              " ('Udell', 'male'),\n",
              " ('Allen', 'male'),\n",
              " ('Heath', 'male'),\n",
              " ('Clemente', 'male'),\n",
              " ('Jaime', 'male'),\n",
              " ('Fredrick', 'male'),\n",
              " ('Wallas', 'male'),\n",
              " ('Xymenes', 'male'),\n",
              " ('Ruperto', 'male'),\n",
              " ('Matthew', 'male'),\n",
              " ('Karel', 'male'),\n",
              " ('Hale', 'male'),\n",
              " ('Douglas', 'male'),\n",
              " ('Roscoe', 'male'),\n",
              " ('Neddie', 'male'),\n",
              " ('Wood', 'male'),\n",
              " ('Quint', 'male'),\n",
              " ('Archon', 'male'),\n",
              " ('Andre', 'male'),\n",
              " ('Tucker', 'male'),\n",
              " ('Judd', 'male'),\n",
              " ('Jordy', 'male'),\n",
              " ('Hans-Peter', 'male'),\n",
              " ('Jim', 'male'),\n",
              " ('Elvin', 'male'),\n",
              " ('Stanford', 'male'),\n",
              " ('Kelwin', 'male'),\n",
              " ('Matthiew', 'male'),\n",
              " ('Alastair', 'male'),\n",
              " ('Hashim', 'male'),\n",
              " ('Etienne', 'male'),\n",
              " ('Hartley', 'male'),\n",
              " ('Denny', 'male'),\n",
              " ('Darby', 'male'),\n",
              " ('Barnie', 'male'),\n",
              " ('Zak', 'male'),\n",
              " ('Clem', 'male'),\n",
              " ('Randell', 'male'),\n",
              " ('Dugan', 'male'),\n",
              " ('Derron', 'male'),\n",
              " ('Loren', 'male'),\n",
              " ('Sayer', 'male'),\n",
              " ('Ambrosi', 'male'),\n",
              " ('Hanan', 'male'),\n",
              " ('Werner', 'male'),\n",
              " ('Harry', 'male'),\n",
              " ('Tanney', 'male'),\n",
              " ('Niki', 'male'),\n",
              " ('Art', 'male'),\n",
              " ('Mathias', 'male'),\n",
              " ('Axel', 'male'),\n",
              " ('Westley', 'male'),\n",
              " ('Haleigh', 'male'),\n",
              " ('Efram', 'male'),\n",
              " ('Ephram', 'male'),\n",
              " ('James', 'male'),\n",
              " ('Waldemar', 'male'),\n",
              " ('Skip', 'male'),\n",
              " ('Wolfram', 'male'),\n",
              " ('Anatoly', 'male'),\n",
              " ('Bartel', 'male'),\n",
              " ('Jennings', 'male'),\n",
              " ('Warden', 'male'),\n",
              " ('Sherlocke', 'male'),\n",
              " ('Andrej', 'male'),\n",
              " ('Garold', 'male'),\n",
              " ('Jameson', 'male'),\n",
              " ('Pieter', 'male'),\n",
              " ('Ravi', 'male'),\n",
              " ('Patrice', 'male'),\n",
              " ('Conan', 'male'),\n",
              " ('Tommy', 'male'),\n",
              " ('Mugsy', 'male'),\n",
              " ('Ellsworth', 'male'),\n",
              " ('Lawrence', 'male'),\n",
              " ('Ashton', 'male'),\n",
              " ('Brandy', 'male'),\n",
              " ('Nevins', 'male'),\n",
              " ('Filmore', 'male'),\n",
              " ('Rafe', 'male'),\n",
              " ('Raj', 'male'),\n",
              " ('Emerson', 'male'),\n",
              " ('Er', 'male'),\n",
              " ('Tray', 'male'),\n",
              " ('Uriel', 'male'),\n",
              " ('Parker', 'male'),\n",
              " ('Barnebas', 'male'),\n",
              " ('Orin', 'male'),\n",
              " ('Merill', 'male'),\n",
              " ('Bo', 'male'),\n",
              " ('Giffer', 'male'),\n",
              " ('Regen', 'male'),\n",
              " ('Thibaud', 'male'),\n",
              " ('Beaufort', 'male'),\n",
              " ('Grace', 'male'),\n",
              " ('Corwin', 'male'),\n",
              " ('Sax', 'male'),\n",
              " ('Chaim', 'male'),\n",
              " ('Kermit', 'male'),\n",
              " ('Giff', 'male'),\n",
              " ('Clarence', 'male'),\n",
              " ('Thomas', 'male'),\n",
              " ('Chris', 'male'),\n",
              " ('Andres', 'male'),\n",
              " ('Westleigh', 'male'),\n",
              " ('Redford', 'male'),\n",
              " ('Anton', 'male'),\n",
              " ('Maurits', 'male'),\n",
              " ('Ty', 'male'),\n",
              " ('Adolphus', 'male'),\n",
              " ('Dryke', 'male'),\n",
              " ('Sidney', 'male'),\n",
              " ('Reuben', 'male'),\n",
              " ('Jonathon', 'male'),\n",
              " ('Sylvan', 'male'),\n",
              " ('Hobart', 'male'),\n",
              " ('Ronnie', 'male'),\n",
              " ('Burnaby', 'male'),\n",
              " ('Abdel', 'male'),\n",
              " ('Harris', 'male'),\n",
              " ('Berkley', 'male'),\n",
              " ('Otes', 'male'),\n",
              " ('Hyman', 'male'),\n",
              " ('Gordan', 'male'),\n",
              " ('Ramsay', 'male'),\n",
              " ('Gideon', 'male'),\n",
              " ('Lefty', 'male'),\n",
              " ('Staford', 'male'),\n",
              " ('Ginger', 'male'),\n",
              " ('Towny', 'male'),\n",
              " ('Geoffry', 'male'),\n",
              " ('Neel', 'male'),\n",
              " ('Taber', 'male'),\n",
              " ('Vaughan', 'male'),\n",
              " ('Wat', 'male'),\n",
              " ('Aaron', 'male'),\n",
              " ('Adam', 'male'),\n",
              " ('Xenos', 'male'),\n",
              " ('Jimmy', 'male'),\n",
              " ('Wayne', 'male'),\n",
              " ('Durante', 'male'),\n",
              " ('Dimitris', 'male'),\n",
              " ('Baldwin', 'male'),\n",
              " ('Raimund', 'male'),\n",
              " ('Alan', 'male'),\n",
              " ('Benjie', 'male'),\n",
              " ('Pascale', 'male'),\n",
              " ('Shepherd', 'male'),\n",
              " ('Tuckie', 'male'),\n",
              " ('Angus', 'male'),\n",
              " ('Sanders', 'male'),\n",
              " ('Hamlet', 'male'),\n",
              " ('Powell', 'male'),\n",
              " ('Ham', 'male'),\n",
              " ('Lion', 'male'),\n",
              " ('Lincoln', 'male'),\n",
              " ('Tedd', 'male'),\n",
              " ('Frederic', 'male'),\n",
              " ('Foster', 'male'),\n",
              " ('Giovanne', 'male'),\n",
              " ('Les', 'male'),\n",
              " ('Pedro', 'male'),\n",
              " ('Waylin', 'male'),\n",
              " ('Farley', 'male'),\n",
              " ('Ragnar', 'male'),\n",
              " ('Smith', 'male'),\n",
              " ('Vilhelm', 'male'),\n",
              " ('Sherwynd', 'male'),\n",
              " ('Sebastian', 'male'),\n",
              " ('Sandro', 'male'),\n",
              " ('Hans', 'male'),\n",
              " ('Forest', 'male'),\n",
              " ('Ender', 'male'),\n",
              " ('Oleg', 'male'),\n",
              " ('Skyler', 'male'),\n",
              " ('Lev', 'male'),\n",
              " ('Tammy', 'male'),\n",
              " ('Sascha', 'male'),\n",
              " ('Georgia', 'male'),\n",
              " ('Kory', 'male'),\n",
              " ('Riccardo', 'male'),\n",
              " ('Ramesh', 'male'),\n",
              " ('Hubert', 'male'),\n",
              " ('Patel', 'male'),\n",
              " ('Lyle', 'male'),\n",
              " ('Paulo', 'male'),\n",
              " ('Florian', 'male'),\n",
              " ('Dickey', 'male'),\n",
              " ('Calhoun', 'male'),\n",
              " ('Marko', 'male'),\n",
              " ('Reube', 'male'),\n",
              " ('Aubert', 'male'),\n",
              " ('Mervin', 'male'),\n",
              " ('Guillermo', 'male'),\n",
              " ('Jan', 'male'),\n",
              " ('Chaddie', 'male'),\n",
              " ('Serge', 'male'),\n",
              " ('Randi', 'male'),\n",
              " ('Prentice', 'male'),\n",
              " ('Menard', 'male'),\n",
              " ('Dylan', 'male'),\n",
              " ('Samuel', 'male'),\n",
              " ('Aguste', 'male'),\n",
              " ('Cy', 'male'),\n",
              " ('Tomlin', 'male'),\n",
              " ('Kalvin', 'male'),\n",
              " ('Saxe', 'male'),\n",
              " ('Piggy', 'male'),\n",
              " ('Ernst', 'male'),\n",
              " ('Erik', 'male'),\n",
              " ('Jotham', 'male'),\n",
              " ('Franklin', 'male'),\n",
              " ('Hamid', 'male'),\n",
              " ('Barnaby', 'male'),\n",
              " ('Anson', 'male'),\n",
              " ('Ignacius', 'male'),\n",
              " ('Friedrick', 'male'),\n",
              " ('West', 'male'),\n",
              " ('Algernon', 'male'),\n",
              " ('Nelsen', 'male'),\n",
              " ('Jeffrey', 'male'),\n",
              " ('Maison', 'male'),\n",
              " ('Alasdair', 'male'),\n",
              " ('Abbot', 'male'),\n",
              " ('Jeffry', 'male'),\n",
              " ('Worth', 'male'),\n",
              " ('Tab', 'male'),\n",
              " ('Darien', 'male'),\n",
              " ('Aleks', 'male'),\n",
              " ('Zackariah', 'male'),\n",
              " ('Horace', 'male'),\n",
              " ('Percy', 'male'),\n",
              " ('Thedric', 'male'),\n",
              " ('Cal', 'male'),\n",
              " ('Walker', 'male'),\n",
              " ('Courtney', 'male'),\n",
              " ('Rudolfo', 'male'),\n",
              " ('Heinrich', 'male'),\n",
              " ('Marco', 'male'),\n",
              " ('Tudor', 'male'),\n",
              " ('Bailie', 'male'),\n",
              " ('Harman', 'male'),\n",
              " ('Jonny', 'male'),\n",
              " ('Barbabas', 'male'),\n",
              " ('Barret', 'male'),\n",
              " ('Wake', 'male'),\n",
              " ('Dom', 'male'),\n",
              " ('Shea', 'male'),\n",
              " ('Brook', 'male'),\n",
              " ('Neville', 'male'),\n",
              " ('Hazel', 'male'),\n",
              " ('Rees', 'male'),\n",
              " ('Skipton', 'male'),\n",
              " ('Tracey', 'male'),\n",
              " ('Izaak', 'male'),\n",
              " ('Whitney', 'male'),\n",
              " ('Weylin', 'male'),\n",
              " ('Johnathon', 'male'),\n",
              " ('Cesar', 'male'),\n",
              " ('Blake', 'male'),\n",
              " ('Rockwell', 'male'),\n",
              " ('Norris', 'male'),\n",
              " ('Quent', 'male'),\n",
              " ('Theodore', 'male'),\n",
              " ('Gallagher', 'male'),\n",
              " ('Jonah', 'male'),\n",
              " ('Terri', 'male'),\n",
              " ('Durand', 'male'),\n",
              " ('Desmund', 'male'),\n",
              " ('Taddeo', 'male'),\n",
              " ('Bishop', 'male'),\n",
              " ('Whittaker', 'male'),\n",
              " ('Yuri', 'male'),\n",
              " ('Simon', 'male'),\n",
              " ('Dewey', 'male'),\n",
              " ('Gay', 'male'),\n",
              " ('Hank', 'male'),\n",
              " ...]"
            ]
          },
          "metadata": {},
          "execution_count": 39
        }
      ]
    },
    {
      "cell_type": "code",
      "source": [
        "featuresets = [(gender_features(n), gender) for (n,gender) in labeled_names]\n"
      ],
      "metadata": {
        "id": "Is3YM6660SAy"
      },
      "execution_count": null,
      "outputs": []
    },
    {
      "cell_type": "code",
      "source": [
        "train_set, test_test = featuresets[500:], featuresets[:500]\n",
        "classifier = nltk.NaiveBayesClassifier.train(train_set)"
      ],
      "metadata": {
        "id": "J-FgAvWv0Y7P"
      },
      "execution_count": null,
      "outputs": []
    },
    {
      "cell_type": "code",
      "source": [
        "classifier.classify(gender_features('David'))"
      ],
      "metadata": {
        "colab": {
          "base_uri": "https://localhost:8080/",
          "height": 35
        },
        "id": "fewYz5ca0ceC",
        "outputId": "e08baa88-f6c7-41c5-a3b9-cae2b96c43da"
      },
      "execution_count": null,
      "outputs": [
        {
          "output_type": "execute_result",
          "data": {
            "text/plain": [
              "'male'"
            ],
            "application/vnd.google.colaboratory.intrinsic+json": {
              "type": "string"
            }
          },
          "metadata": {},
          "execution_count": 43
        }
      ]
    },
    {
      "cell_type": "code",
      "source": [
        "classifier.classify(gender_features('Michelle'))"
      ],
      "metadata": {
        "colab": {
          "base_uri": "https://localhost:8080/",
          "height": 35
        },
        "id": "_iUZtgBD0gkj",
        "outputId": "d3c8ac45-3262-4bcb-a4eb-e86af391c611"
      },
      "execution_count": null,
      "outputs": [
        {
          "output_type": "execute_result",
          "data": {
            "text/plain": [
              "'male'"
            ],
            "application/vnd.google.colaboratory.intrinsic+json": {
              "type": "string"
            }
          },
          "metadata": {},
          "execution_count": 44
        }
      ]
    },
    {
      "cell_type": "code",
      "source": [
        "print(nltk.classify.accuracy(classifier, test_test))"
      ],
      "metadata": {
        "colab": {
          "base_uri": "https://localhost:8080/"
        },
        "id": "jw4BFRRC0jd6",
        "outputId": "99e9cd8a-d10e-4868-9f9d-66006c5c9132"
      },
      "execution_count": null,
      "outputs": [
        {
          "output_type": "stream",
          "name": "stdout",
          "text": [
            "1.0\n"
          ]
        }
      ]
    },
    {
      "cell_type": "code",
      "source": [
        "import nltk\n",
        "from nltk.tokenize import TweetTokenizer\n",
        "text = 'The Party was soooo fun :D #superfun'\n",
        "twtkn = TweetTokenizer()\n",
        "twtkn.tokenize(text)"
      ],
      "metadata": {
        "colab": {
          "base_uri": "https://localhost:8080/"
        },
        "id": "rw4M5TwD0m21",
        "outputId": "4c5d2781-0913-4d2c-c3b4-6f5d1eebc454"
      },
      "execution_count": null,
      "outputs": [
        {
          "output_type": "execute_result",
          "data": {
            "text/plain": [
              "['The', 'Party', 'was', 'soooo', 'fun', ':D', '#superfun']"
            ]
          },
          "metadata": {},
          "execution_count": 46
        }
      ]
    },
    {
      "cell_type": "markdown",
      "source": [
        "3rd feb"
      ],
      "metadata": {
        "id": "4I08RNrs11uq"
      }
    },
    {
      "cell_type": "code",
      "source": [
        "from urllib import response\n",
        "\n",
        "url = \"https://www.gutenberg.org/cache/epub/69937/pg69937.txt\""
      ],
      "metadata": {
        "id": "OZIKEYwZ13qj"
      },
      "execution_count": null,
      "outputs": []
    },
    {
      "cell_type": "code",
      "source": [
        "response = request.urlopen(url)\n",
        "\n",
        "raw = response.read().decode('utf8')"
      ],
      "metadata": {
        "colab": {
          "base_uri": "https://localhost:8080/",
          "height": 204
        },
        "id": "BiZsjcPf15k7",
        "outputId": "d8146bce-5448-4c98-d3c9-9b3d252b765d"
      },
      "execution_count": null,
      "outputs": [
        {
          "output_type": "error",
          "ename": "NameError",
          "evalue": "ignored",
          "traceback": [
            "\u001b[0;31m---------------------------------------------------------------------------\u001b[0m",
            "\u001b[0;31mNameError\u001b[0m                                 Traceback (most recent call last)",
            "\u001b[0;32m<ipython-input-48-7c246a73e022>\u001b[0m in \u001b[0;36m<cell line: 1>\u001b[0;34m()\u001b[0m\n\u001b[0;32m----> 1\u001b[0;31m \u001b[0mresponse\u001b[0m \u001b[0;34m=\u001b[0m \u001b[0mrequest\u001b[0m\u001b[0;34m.\u001b[0m\u001b[0murlopen\u001b[0m\u001b[0;34m(\u001b[0m\u001b[0murl\u001b[0m\u001b[0;34m)\u001b[0m\u001b[0;34m\u001b[0m\u001b[0;34m\u001b[0m\u001b[0m\n\u001b[0m\u001b[1;32m      2\u001b[0m \u001b[0;34m\u001b[0m\u001b[0m\n\u001b[1;32m      3\u001b[0m \u001b[0mraw\u001b[0m \u001b[0;34m=\u001b[0m \u001b[0mresponse\u001b[0m\u001b[0;34m.\u001b[0m\u001b[0mread\u001b[0m\u001b[0;34m(\u001b[0m\u001b[0;34m)\u001b[0m\u001b[0;34m.\u001b[0m\u001b[0mdecode\u001b[0m\u001b[0;34m(\u001b[0m\u001b[0;34m'utf8'\u001b[0m\u001b[0;34m)\u001b[0m\u001b[0;34m\u001b[0m\u001b[0;34m\u001b[0m\u001b[0m\n",
            "\u001b[0;31mNameError\u001b[0m: name 'request' is not defined"
          ]
        }
      ]
    },
    {
      "cell_type": "code",
      "source": [
        "import nltk\n",
        "nltk.download('punkt')\n",
        "\n",
        "from nltk.tokenize import word_tokenize\n",
        "\n",
        "tokens = word_tokenize(raw)\n",
        "print(tokens[:300])"
      ],
      "metadata": {
        "colab": {
          "base_uri": "https://localhost:8080/",
          "height": 258
        },
        "id": "M22ZahHp2HtU",
        "outputId": "53f4d384-5c1a-48b5-ccf3-34c73e1284d3"
      },
      "execution_count": null,
      "outputs": [
        {
          "output_type": "stream",
          "name": "stderr",
          "text": [
            "[nltk_data] Downloading package punkt to /root/nltk_data...\n",
            "[nltk_data]   Package punkt is already up-to-date!\n"
          ]
        },
        {
          "output_type": "error",
          "ename": "NameError",
          "evalue": "ignored",
          "traceback": [
            "\u001b[0;31m---------------------------------------------------------------------------\u001b[0m",
            "\u001b[0;31mNameError\u001b[0m                                 Traceback (most recent call last)",
            "\u001b[0;32m<ipython-input-50-5dc3c6a932da>\u001b[0m in \u001b[0;36m<cell line: 6>\u001b[0;34m()\u001b[0m\n\u001b[1;32m      4\u001b[0m \u001b[0;32mfrom\u001b[0m \u001b[0mnltk\u001b[0m\u001b[0;34m.\u001b[0m\u001b[0mtokenize\u001b[0m \u001b[0;32mimport\u001b[0m \u001b[0mword_tokenize\u001b[0m\u001b[0;34m\u001b[0m\u001b[0;34m\u001b[0m\u001b[0m\n\u001b[1;32m      5\u001b[0m \u001b[0;34m\u001b[0m\u001b[0m\n\u001b[0;32m----> 6\u001b[0;31m \u001b[0mtokens\u001b[0m \u001b[0;34m=\u001b[0m \u001b[0mword_tokenize\u001b[0m\u001b[0;34m(\u001b[0m\u001b[0mraw\u001b[0m\u001b[0;34m)\u001b[0m\u001b[0;34m\u001b[0m\u001b[0;34m\u001b[0m\u001b[0m\n\u001b[0m\u001b[1;32m      7\u001b[0m \u001b[0mprint\u001b[0m\u001b[0;34m(\u001b[0m\u001b[0mtokens\u001b[0m\u001b[0;34m[\u001b[0m\u001b[0;34m:\u001b[0m\u001b[0;36m300\u001b[0m\u001b[0;34m]\u001b[0m\u001b[0;34m)\u001b[0m\u001b[0;34m\u001b[0m\u001b[0;34m\u001b[0m\u001b[0m\n",
            "\u001b[0;31mNameError\u001b[0m: name 'raw' is not defined"
          ]
        }
      ]
    },
    {
      "cell_type": "code",
      "source": [
        "import nltk\n",
        "from nltk.stem import PorterStemmer\n",
        "porter = PorterStemmer()\n",
        "porter.stem('funny') "
      ],
      "metadata": {
        "colab": {
          "base_uri": "https://localhost:8080/",
          "height": 35
        },
        "id": "KA1g2VeO2aFF",
        "outputId": "492c2357-f98e-4d4a-ce6e-b86a0aae7994"
      },
      "execution_count": null,
      "outputs": [
        {
          "output_type": "execute_result",
          "data": {
            "text/plain": [
              "'funni'"
            ],
            "application/vnd.google.colaboratory.intrinsic+json": {
              "type": "string"
            }
          },
          "metadata": {},
          "execution_count": 51
        }
      ]
    },
    {
      "cell_type": "code",
      "source": [
        "from nltk.stem import LancasterStemmer\n",
        "porter = LancasterStemmer()\n",
        "porter.stem('manhunting') \n"
      ],
      "metadata": {
        "colab": {
          "base_uri": "https://localhost:8080/",
          "height": 35
        },
        "id": "IAonrUaW2dOI",
        "outputId": "ebab0d75-a5ea-42ff-8c4f-91bb1b59b111"
      },
      "execution_count": null,
      "outputs": [
        {
          "output_type": "execute_result",
          "data": {
            "text/plain": [
              "'manhunt'"
            ],
            "application/vnd.google.colaboratory.intrinsic+json": {
              "type": "string"
            }
          },
          "metadata": {},
          "execution_count": 52
        }
      ]
    },
    {
      "cell_type": "code",
      "source": [
        "import nltk\n",
        "from nltk.stem import RegexpStemmer\n",
        "porter = RegexpStemmer('ing')\n",
        "porter.stem('singing') "
      ],
      "metadata": {
        "colab": {
          "base_uri": "https://localhost:8080/",
          "height": 35
        },
        "id": "1_LPca0F2gpH",
        "outputId": "ed9169af-2d90-4ae3-ed5c-5aace1a5e43d"
      },
      "execution_count": null,
      "outputs": [
        {
          "output_type": "execute_result",
          "data": {
            "text/plain": [
              "'s'"
            ],
            "application/vnd.google.colaboratory.intrinsic+json": {
              "type": "string"
            }
          },
          "metadata": {},
          "execution_count": 53
        }
      ]
    },
    {
      "cell_type": "code",
      "source": [
        "import nltk\n",
        "from nltk.stem import RegexpStemmer\n",
        "porter = RegexpStemmer('ing$')\n",
        "porter.stem('singing') \n"
      ],
      "metadata": {
        "colab": {
          "base_uri": "https://localhost:8080/",
          "height": 35
        },
        "id": "bSvQpg_P2lb7",
        "outputId": "c6f9f9b4-af05-4e0e-ea73-fd4a44989ed7"
      },
      "execution_count": null,
      "outputs": [
        {
          "output_type": "execute_result",
          "data": {
            "text/plain": [
              "'sing'"
            ],
            "application/vnd.google.colaboratory.intrinsic+json": {
              "type": "string"
            }
          },
          "metadata": {},
          "execution_count": 54
        }
      ]
    },
    {
      "cell_type": "code",
      "source": [
        "import nltk\n",
        "from nltk.stem import SnowballStemmer\n",
        "snow = SnowballStemmer('french')\n",
        "snow.stem('manges')"
      ],
      "metadata": {
        "colab": {
          "base_uri": "https://localhost:8080/",
          "height": 35
        },
        "id": "X4u2bQG22n3H",
        "outputId": "52262b05-886f-4820-b273-f84bfcf91e5a"
      },
      "execution_count": null,
      "outputs": [
        {
          "output_type": "execute_result",
          "data": {
            "text/plain": [
              "'mang'"
            ],
            "application/vnd.google.colaboratory.intrinsic+json": {
              "type": "string"
            }
          },
          "metadata": {},
          "execution_count": 55
        }
      ]
    },
    {
      "cell_type": "code",
      "source": [
        "porter = PorterStemmer()\n",
        "text = \"\"\" This, we may suppose, is intended for a mad outbreak of voluptuous\n",
        "passion, “the nympholepsy of some fond despair”; and, as such, it\n",
        "is not very much worse than some that have won the applause of more\n",
        "critical ages. It may suggest the style of the Interlude in the\n",
        "_Midsummer-Night’s Dream_, or more forcibly, the “_King Cambyses’_\n",
        "vein” that was then in vogue (for Preston’s play of that name,\n",
        "published about a couple of years later than the probable date when\n",
        "this was performed, is in every way the nearest analogue to _Appius\n",
        "and Virginia_ that the history of our stage has to offer). But in\n",
        "comparison with the normal flow of the Moralities, the lines have\n",
        "undoubtedly a certain urgency and glow. And there are other touches\n",
        "that betray the incipient playwright. Appius is not exhibited as a\n",
        "mere monster; through all his life his walk has been blameless, and\n",
        "he is well aware of his “grounded years,” his reputation as judge,\n",
        "and the value of good report. He is not at ease in the course he now\n",
        "adopts; there is a division in his nature, and he does not yield to his\n",
        "temptation without forebodings and remorse. \"\"\"\n",
        "stemmed = [porter.stem(token)for token in text.split(\" \")]\n",
        "\n",
        "print(stemmed[:50])"
      ],
      "metadata": {
        "colab": {
          "base_uri": "https://localhost:8080/"
        },
        "id": "bsqFtRsY2tmC",
        "outputId": "86f6a8b3-81e8-4819-a83d-69f68cba4975"
      },
      "execution_count": null,
      "outputs": [
        {
          "output_type": "stream",
          "name": "stdout",
          "text": [
            "['', 'this,', 'we', 'may', 'suppose,', 'is', 'intend', 'for', 'a', 'mad', 'outbreak', 'of', 'voluptuous\\npassion,', '“the', 'nympholepsi', 'of', 'some', 'fond', 'despair”;', 'and,', 'as', 'such,', 'it\\ni', 'not', 'veri', 'much', 'wors', 'than', 'some', 'that', 'have', 'won', 'the', 'applaus', 'of', 'more\\ncrit', 'ages.', 'it', 'may', 'suggest', 'the', 'style', 'of', 'the', 'interlud', 'in', 'the\\n_midsummer-night’', 'dream_,', 'or', 'more']\n"
          ]
        }
      ]
    },
    {
      "cell_type": "code",
      "source": [
        "import nltk\n",
        "nltk.download('wordnet')\n",
        "nltk.download('omw-1.4')"
      ],
      "metadata": {
        "colab": {
          "base_uri": "https://localhost:8080/"
        },
        "id": "4dBGlf5O2ySx",
        "outputId": "4e956c04-af14-44bb-9978-6f98909871ba"
      },
      "execution_count": null,
      "outputs": [
        {
          "output_type": "stream",
          "name": "stderr",
          "text": [
            "[nltk_data] Downloading package wordnet to /root/nltk_data...\n",
            "[nltk_data]   Package wordnet is already up-to-date!\n",
            "[nltk_data] Downloading package omw-1.4 to /root/nltk_data...\n"
          ]
        },
        {
          "output_type": "execute_result",
          "data": {
            "text/plain": [
              "True"
            ]
          },
          "metadata": {},
          "execution_count": 57
        }
      ]
    },
    {
      "cell_type": "code",
      "source": [
        "from nltk.stem import WordNetLemmatizer\n",
        "lemma = WordNetLemmatizer()\n",
        "print(lemma.lemmatize(\"am\"))\n",
        "print(lemma.lemmatize(\"mice\"))\n"
      ],
      "metadata": {
        "colab": {
          "base_uri": "https://localhost:8080/"
        },
        "id": "8lAUZ3gy23P2",
        "outputId": "3e1b7d47-8daa-4b89-8a97-64f58756a244"
      },
      "execution_count": null,
      "outputs": [
        {
          "output_type": "stream",
          "name": "stdout",
          "text": [
            "am\n",
            "mouse\n"
          ]
        }
      ]
    },
    {
      "cell_type": "markdown",
      "source": [
        "17th feb"
      ],
      "metadata": {
        "id": "m8RUq5cE29Lt"
      }
    },
    {
      "cell_type": "code",
      "source": [
        "from sklearn.feature_extraction.text import CountVectorizer\n",
        "vect = CountVectorizer(binary = True)\n"
      ],
      "metadata": {
        "id": "cPbkxjTb2_tq"
      },
      "execution_count": null,
      "outputs": []
    },
    {
      "cell_type": "code",
      "source": [
        "corpus = [\"NLP is awesome\", \"I want to start an NLP company\", \"Top unicorns use NLP\"]\n",
        "\n",
        "vect.fit(corpus)\n"
      ],
      "metadata": {
        "colab": {
          "base_uri": "https://localhost:8080/",
          "height": 75
        },
        "id": "lLkJn-4M3Dsl",
        "outputId": "e7b46a3a-c59b-416e-de5e-be107173f747"
      },
      "execution_count": null,
      "outputs": [
        {
          "output_type": "execute_result",
          "data": {
            "text/plain": [
              "CountVectorizer(binary=True)"
            ],
            "text/html": [
              "<style>#sk-container-id-1 {color: black;background-color: white;}#sk-container-id-1 pre{padding: 0;}#sk-container-id-1 div.sk-toggleable {background-color: white;}#sk-container-id-1 label.sk-toggleable__label {cursor: pointer;display: block;width: 100%;margin-bottom: 0;padding: 0.3em;box-sizing: border-box;text-align: center;}#sk-container-id-1 label.sk-toggleable__label-arrow:before {content: \"▸\";float: left;margin-right: 0.25em;color: #696969;}#sk-container-id-1 label.sk-toggleable__label-arrow:hover:before {color: black;}#sk-container-id-1 div.sk-estimator:hover label.sk-toggleable__label-arrow:before {color: black;}#sk-container-id-1 div.sk-toggleable__content {max-height: 0;max-width: 0;overflow: hidden;text-align: left;background-color: #f0f8ff;}#sk-container-id-1 div.sk-toggleable__content pre {margin: 0.2em;color: black;border-radius: 0.25em;background-color: #f0f8ff;}#sk-container-id-1 input.sk-toggleable__control:checked~div.sk-toggleable__content {max-height: 200px;max-width: 100%;overflow: auto;}#sk-container-id-1 input.sk-toggleable__control:checked~label.sk-toggleable__label-arrow:before {content: \"▾\";}#sk-container-id-1 div.sk-estimator input.sk-toggleable__control:checked~label.sk-toggleable__label {background-color: #d4ebff;}#sk-container-id-1 div.sk-label input.sk-toggleable__control:checked~label.sk-toggleable__label {background-color: #d4ebff;}#sk-container-id-1 input.sk-hidden--visually {border: 0;clip: rect(1px 1px 1px 1px);clip: rect(1px, 1px, 1px, 1px);height: 1px;margin: -1px;overflow: hidden;padding: 0;position: absolute;width: 1px;}#sk-container-id-1 div.sk-estimator {font-family: monospace;background-color: #f0f8ff;border: 1px dotted black;border-radius: 0.25em;box-sizing: border-box;margin-bottom: 0.5em;}#sk-container-id-1 div.sk-estimator:hover {background-color: #d4ebff;}#sk-container-id-1 div.sk-parallel-item::after {content: \"\";width: 100%;border-bottom: 1px solid gray;flex-grow: 1;}#sk-container-id-1 div.sk-label:hover label.sk-toggleable__label {background-color: #d4ebff;}#sk-container-id-1 div.sk-serial::before {content: \"\";position: absolute;border-left: 1px solid gray;box-sizing: border-box;top: 0;bottom: 0;left: 50%;z-index: 0;}#sk-container-id-1 div.sk-serial {display: flex;flex-direction: column;align-items: center;background-color: white;padding-right: 0.2em;padding-left: 0.2em;position: relative;}#sk-container-id-1 div.sk-item {position: relative;z-index: 1;}#sk-container-id-1 div.sk-parallel {display: flex;align-items: stretch;justify-content: center;background-color: white;position: relative;}#sk-container-id-1 div.sk-item::before, #sk-container-id-1 div.sk-parallel-item::before {content: \"\";position: absolute;border-left: 1px solid gray;box-sizing: border-box;top: 0;bottom: 0;left: 50%;z-index: -1;}#sk-container-id-1 div.sk-parallel-item {display: flex;flex-direction: column;z-index: 1;position: relative;background-color: white;}#sk-container-id-1 div.sk-parallel-item:first-child::after {align-self: flex-end;width: 50%;}#sk-container-id-1 div.sk-parallel-item:last-child::after {align-self: flex-start;width: 50%;}#sk-container-id-1 div.sk-parallel-item:only-child::after {width: 0;}#sk-container-id-1 div.sk-dashed-wrapped {border: 1px dashed gray;margin: 0 0.4em 0.5em 0.4em;box-sizing: border-box;padding-bottom: 0.4em;background-color: white;}#sk-container-id-1 div.sk-label label {font-family: monospace;font-weight: bold;display: inline-block;line-height: 1.2em;}#sk-container-id-1 div.sk-label-container {text-align: center;}#sk-container-id-1 div.sk-container {/* jupyter's `normalize.less` sets `[hidden] { display: none; }` but bootstrap.min.css set `[hidden] { display: none !important; }` so we also need the `!important` here to be able to override the default hidden behavior on the sphinx rendered scikit-learn.org. See: https://github.com/scikit-learn/scikit-learn/issues/21755 */display: inline-block !important;position: relative;}#sk-container-id-1 div.sk-text-repr-fallback {display: none;}</style><div id=\"sk-container-id-1\" class=\"sk-top-container\"><div class=\"sk-text-repr-fallback\"><pre>CountVectorizer(binary=True)</pre><b>In a Jupyter environment, please rerun this cell to show the HTML representation or trust the notebook. <br />On GitHub, the HTML representation is unable to render, please try loading this page with nbviewer.org.</b></div><div class=\"sk-container\" hidden><div class=\"sk-item\"><div class=\"sk-estimator sk-toggleable\"><input class=\"sk-toggleable__control sk-hidden--visually\" id=\"sk-estimator-id-1\" type=\"checkbox\" checked><label for=\"sk-estimator-id-1\" class=\"sk-toggleable__label sk-toggleable__label-arrow\">CountVectorizer</label><div class=\"sk-toggleable__content\"><pre>CountVectorizer(binary=True)</pre></div></div></div></div></div>"
            ]
          },
          "metadata": {},
          "execution_count": 61
        }
      ]
    },
    {
      "cell_type": "code",
      "source": [
        "vocab = vect.vocabulary_"
      ],
      "metadata": {
        "id": "xYyI32TA3HhY"
      },
      "execution_count": null,
      "outputs": []
    },
    {
      "cell_type": "code",
      "source": [
        "for key in sorted(vocab.keys()):\n",
        "    print(\"{}:{}\".format(key,vocab[key]))"
      ],
      "metadata": {
        "colab": {
          "base_uri": "https://localhost:8080/"
        },
        "id": "XxdXkzVq3KZb",
        "outputId": "31fda718-9c37-4c04-b377-2e5b83f09a74"
      },
      "execution_count": null,
      "outputs": [
        {
          "output_type": "stream",
          "name": "stdout",
          "text": [
            "an:0\n",
            "awesome:1\n",
            "company:2\n",
            "is:3\n",
            "nlp:4\n",
            "start:5\n",
            "to:6\n",
            "top:7\n",
            "unicorns:8\n",
            "use:9\n",
            "want:10\n"
          ]
        }
      ]
    },
    {
      "cell_type": "code",
      "source": [
        "vect.transform([\"This NLP task is pretty awesome\"]).toarray()"
      ],
      "metadata": {
        "colab": {
          "base_uri": "https://localhost:8080/"
        },
        "id": "lAypScoh3NL4",
        "outputId": "d7bc3487-158c-4bd0-c271-c88d200ffe89"
      },
      "execution_count": null,
      "outputs": [
        {
          "output_type": "execute_result",
          "data": {
            "text/plain": [
              "array([[0, 1, 0, 1, 1, 0, 0, 0, 0, 0, 0]])"
            ]
          },
          "metadata": {},
          "execution_count": 64
        }
      ]
    },
    {
      "cell_type": "code",
      "source": [
        "from sklearn.metrics.pairwise import cosine_similarity\n",
        "cossim = cosine_similarity(vect.transform([\"NLP is an elective\"]).toarray(),vect.transform([\"Careers using NLP are attractive now\"]).toarray())"
      ],
      "metadata": {
        "id": "ZjkmkfrY3QWe"
      },
      "execution_count": null,
      "outputs": []
    },
    {
      "cell_type": "markdown",
      "source": [
        "24th march"
      ],
      "metadata": {
        "id": "UFNM52W13WoT"
      }
    },
    {
      "cell_type": "code",
      "source": [
        "!pip install spacy\n",
        "!python -m spacy download en_core_web_sm\n",
        "import spacy\n",
        "m = spacy.load('en_core_web_sm')"
      ],
      "metadata": {
        "colab": {
          "base_uri": "https://localhost:8080/"
        },
        "id": "ofWcBV7p3Yn6",
        "outputId": "fb591085-fede-416f-e243-df512b8d6c8f"
      },
      "execution_count": null,
      "outputs": [
        {
          "output_type": "stream",
          "name": "stdout",
          "text": [
            "Looking in indexes: https://pypi.org/simple, https://us-python.pkg.dev/colab-wheels/public/simple/\n",
            "Requirement already satisfied: spacy in /usr/local/lib/python3.9/dist-packages (3.5.1)\n",
            "Requirement already satisfied: tqdm<5.0.0,>=4.38.0 in /usr/local/lib/python3.9/dist-packages (from spacy) (4.65.0)\n",
            "Requirement already satisfied: jinja2 in /usr/local/lib/python3.9/dist-packages (from spacy) (3.1.2)\n",
            "Requirement already satisfied: pydantic!=1.8,!=1.8.1,<1.11.0,>=1.7.4 in /usr/local/lib/python3.9/dist-packages (from spacy) (1.10.7)\n",
            "Requirement already satisfied: wasabi<1.2.0,>=0.9.1 in /usr/local/lib/python3.9/dist-packages (from spacy) (1.1.1)\n",
            "Requirement already satisfied: typer<0.8.0,>=0.3.0 in /usr/local/lib/python3.9/dist-packages (from spacy) (0.7.0)\n",
            "Requirement already satisfied: langcodes<4.0.0,>=3.2.0 in /usr/local/lib/python3.9/dist-packages (from spacy) (3.3.0)\n",
            "Requirement already satisfied: smart-open<7.0.0,>=5.2.1 in /usr/local/lib/python3.9/dist-packages (from spacy) (6.3.0)\n",
            "Requirement already satisfied: cymem<2.1.0,>=2.0.2 in /usr/local/lib/python3.9/dist-packages (from spacy) (2.0.7)\n",
            "Requirement already satisfied: requests<3.0.0,>=2.13.0 in /usr/local/lib/python3.9/dist-packages (from spacy) (2.27.1)\n",
            "Requirement already satisfied: spacy-loggers<2.0.0,>=1.0.0 in /usr/local/lib/python3.9/dist-packages (from spacy) (1.0.4)\n",
            "Requirement already satisfied: pathy>=0.10.0 in /usr/local/lib/python3.9/dist-packages (from spacy) (0.10.1)\n",
            "Requirement already satisfied: setuptools in /usr/local/lib/python3.9/dist-packages (from spacy) (67.6.1)\n",
            "Requirement already satisfied: numpy>=1.15.0 in /usr/local/lib/python3.9/dist-packages (from spacy) (1.22.4)\n",
            "Requirement already satisfied: catalogue<2.1.0,>=2.0.6 in /usr/local/lib/python3.9/dist-packages (from spacy) (2.0.8)\n",
            "Requirement already satisfied: packaging>=20.0 in /usr/local/lib/python3.9/dist-packages (from spacy) (23.0)\n",
            "Requirement already satisfied: preshed<3.1.0,>=3.0.2 in /usr/local/lib/python3.9/dist-packages (from spacy) (3.0.8)\n",
            "Requirement already satisfied: spacy-legacy<3.1.0,>=3.0.11 in /usr/local/lib/python3.9/dist-packages (from spacy) (3.0.12)\n",
            "Requirement already satisfied: thinc<8.2.0,>=8.1.8 in /usr/local/lib/python3.9/dist-packages (from spacy) (8.1.9)\n",
            "Requirement already satisfied: murmurhash<1.1.0,>=0.28.0 in /usr/local/lib/python3.9/dist-packages (from spacy) (1.0.9)\n",
            "Requirement already satisfied: srsly<3.0.0,>=2.4.3 in /usr/local/lib/python3.9/dist-packages (from spacy) (2.4.6)\n",
            "Requirement already satisfied: typing-extensions>=4.2.0 in /usr/local/lib/python3.9/dist-packages (from pydantic!=1.8,!=1.8.1,<1.11.0,>=1.7.4->spacy) (4.5.0)\n",
            "Requirement already satisfied: urllib3<1.27,>=1.21.1 in /usr/local/lib/python3.9/dist-packages (from requests<3.0.0,>=2.13.0->spacy) (1.26.15)\n",
            "Requirement already satisfied: charset-normalizer~=2.0.0 in /usr/local/lib/python3.9/dist-packages (from requests<3.0.0,>=2.13.0->spacy) (2.0.12)\n",
            "Requirement already satisfied: certifi>=2017.4.17 in /usr/local/lib/python3.9/dist-packages (from requests<3.0.0,>=2.13.0->spacy) (2022.12.7)\n",
            "Requirement already satisfied: idna<4,>=2.5 in /usr/local/lib/python3.9/dist-packages (from requests<3.0.0,>=2.13.0->spacy) (3.4)\n",
            "Requirement already satisfied: confection<1.0.0,>=0.0.1 in /usr/local/lib/python3.9/dist-packages (from thinc<8.2.0,>=8.1.8->spacy) (0.0.4)\n",
            "Requirement already satisfied: blis<0.8.0,>=0.7.8 in /usr/local/lib/python3.9/dist-packages (from thinc<8.2.0,>=8.1.8->spacy) (0.7.9)\n",
            "Requirement already satisfied: click<9.0.0,>=7.1.1 in /usr/local/lib/python3.9/dist-packages (from typer<0.8.0,>=0.3.0->spacy) (8.1.3)\n",
            "Requirement already satisfied: MarkupSafe>=2.0 in /usr/local/lib/python3.9/dist-packages (from jinja2->spacy) (2.1.2)\n",
            "2023-04-14 08:24:51.754969: I tensorflow/core/platform/cpu_feature_guard.cc:182] This TensorFlow binary is optimized to use available CPU instructions in performance-critical operations.\n",
            "To enable the following instructions: AVX2 FMA, in other operations, rebuild TensorFlow with the appropriate compiler flags.\n",
            "2023-04-14 08:24:53.040208: W tensorflow/compiler/tf2tensorrt/utils/py_utils.cc:38] TF-TRT Warning: Could not find TensorRT\n",
            "Looking in indexes: https://pypi.org/simple, https://us-python.pkg.dev/colab-wheels/public/simple/\n",
            "Collecting en-core-web-sm==3.5.0\n",
            "  Downloading https://github.com/explosion/spacy-models/releases/download/en_core_web_sm-3.5.0/en_core_web_sm-3.5.0-py3-none-any.whl (12.8 MB)\n",
            "\u001b[2K     \u001b[90m━━━━━━━━━━━━━━━━━━━━━━━━━━━━━━━━━━━━━━━━\u001b[0m \u001b[32m12.8/12.8 MB\u001b[0m \u001b[31m43.9 MB/s\u001b[0m eta \u001b[36m0:00:00\u001b[0m\n",
            "\u001b[?25hRequirement already satisfied: spacy<3.6.0,>=3.5.0 in /usr/local/lib/python3.9/dist-packages (from en-core-web-sm==3.5.0) (3.5.1)\n",
            "Requirement already satisfied: typer<0.8.0,>=0.3.0 in /usr/local/lib/python3.9/dist-packages (from spacy<3.6.0,>=3.5.0->en-core-web-sm==3.5.0) (0.7.0)\n",
            "Requirement already satisfied: cymem<2.1.0,>=2.0.2 in /usr/local/lib/python3.9/dist-packages (from spacy<3.6.0,>=3.5.0->en-core-web-sm==3.5.0) (2.0.7)\n",
            "Requirement already satisfied: spacy-legacy<3.1.0,>=3.0.11 in /usr/local/lib/python3.9/dist-packages (from spacy<3.6.0,>=3.5.0->en-core-web-sm==3.5.0) (3.0.12)\n",
            "Requirement already satisfied: spacy-loggers<2.0.0,>=1.0.0 in /usr/local/lib/python3.9/dist-packages (from spacy<3.6.0,>=3.5.0->en-core-web-sm==3.5.0) (1.0.4)\n",
            "Requirement already satisfied: smart-open<7.0.0,>=5.2.1 in /usr/local/lib/python3.9/dist-packages (from spacy<3.6.0,>=3.5.0->en-core-web-sm==3.5.0) (6.3.0)\n",
            "Requirement already satisfied: thinc<8.2.0,>=8.1.8 in /usr/local/lib/python3.9/dist-packages (from spacy<3.6.0,>=3.5.0->en-core-web-sm==3.5.0) (8.1.9)\n",
            "Requirement already satisfied: catalogue<2.1.0,>=2.0.6 in /usr/local/lib/python3.9/dist-packages (from spacy<3.6.0,>=3.5.0->en-core-web-sm==3.5.0) (2.0.8)\n",
            "Requirement already satisfied: preshed<3.1.0,>=3.0.2 in /usr/local/lib/python3.9/dist-packages (from spacy<3.6.0,>=3.5.0->en-core-web-sm==3.5.0) (3.0.8)\n",
            "Requirement already satisfied: packaging>=20.0 in /usr/local/lib/python3.9/dist-packages (from spacy<3.6.0,>=3.5.0->en-core-web-sm==3.5.0) (23.0)\n",
            "Requirement already satisfied: tqdm<5.0.0,>=4.38.0 in /usr/local/lib/python3.9/dist-packages (from spacy<3.6.0,>=3.5.0->en-core-web-sm==3.5.0) (4.65.0)\n",
            "Requirement already satisfied: numpy>=1.15.0 in /usr/local/lib/python3.9/dist-packages (from spacy<3.6.0,>=3.5.0->en-core-web-sm==3.5.0) (1.22.4)\n",
            "Requirement already satisfied: wasabi<1.2.0,>=0.9.1 in /usr/local/lib/python3.9/dist-packages (from spacy<3.6.0,>=3.5.0->en-core-web-sm==3.5.0) (1.1.1)\n",
            "Requirement already satisfied: murmurhash<1.1.0,>=0.28.0 in /usr/local/lib/python3.9/dist-packages (from spacy<3.6.0,>=3.5.0->en-core-web-sm==3.5.0) (1.0.9)\n",
            "Requirement already satisfied: requests<3.0.0,>=2.13.0 in /usr/local/lib/python3.9/dist-packages (from spacy<3.6.0,>=3.5.0->en-core-web-sm==3.5.0) (2.27.1)\n",
            "Requirement already satisfied: setuptools in /usr/local/lib/python3.9/dist-packages (from spacy<3.6.0,>=3.5.0->en-core-web-sm==3.5.0) (67.6.1)\n",
            "Requirement already satisfied: srsly<3.0.0,>=2.4.3 in /usr/local/lib/python3.9/dist-packages (from spacy<3.6.0,>=3.5.0->en-core-web-sm==3.5.0) (2.4.6)\n",
            "Requirement already satisfied: langcodes<4.0.0,>=3.2.0 in /usr/local/lib/python3.9/dist-packages (from spacy<3.6.0,>=3.5.0->en-core-web-sm==3.5.0) (3.3.0)\n",
            "Requirement already satisfied: pathy>=0.10.0 in /usr/local/lib/python3.9/dist-packages (from spacy<3.6.0,>=3.5.0->en-core-web-sm==3.5.0) (0.10.1)\n",
            "Requirement already satisfied: pydantic!=1.8,!=1.8.1,<1.11.0,>=1.7.4 in /usr/local/lib/python3.9/dist-packages (from spacy<3.6.0,>=3.5.0->en-core-web-sm==3.5.0) (1.10.7)\n",
            "Requirement already satisfied: jinja2 in /usr/local/lib/python3.9/dist-packages (from spacy<3.6.0,>=3.5.0->en-core-web-sm==3.5.0) (3.1.2)\n",
            "Requirement already satisfied: typing-extensions>=4.2.0 in /usr/local/lib/python3.9/dist-packages (from pydantic!=1.8,!=1.8.1,<1.11.0,>=1.7.4->spacy<3.6.0,>=3.5.0->en-core-web-sm==3.5.0) (4.5.0)\n",
            "Requirement already satisfied: charset-normalizer~=2.0.0 in /usr/local/lib/python3.9/dist-packages (from requests<3.0.0,>=2.13.0->spacy<3.6.0,>=3.5.0->en-core-web-sm==3.5.0) (2.0.12)\n",
            "Requirement already satisfied: certifi>=2017.4.17 in /usr/local/lib/python3.9/dist-packages (from requests<3.0.0,>=2.13.0->spacy<3.6.0,>=3.5.0->en-core-web-sm==3.5.0) (2022.12.7)\n",
            "Requirement already satisfied: urllib3<1.27,>=1.21.1 in /usr/local/lib/python3.9/dist-packages (from requests<3.0.0,>=2.13.0->spacy<3.6.0,>=3.5.0->en-core-web-sm==3.5.0) (1.26.15)\n",
            "Requirement already satisfied: idna<4,>=2.5 in /usr/local/lib/python3.9/dist-packages (from requests<3.0.0,>=2.13.0->spacy<3.6.0,>=3.5.0->en-core-web-sm==3.5.0) (3.4)\n",
            "Requirement already satisfied: blis<0.8.0,>=0.7.8 in /usr/local/lib/python3.9/dist-packages (from thinc<8.2.0,>=8.1.8->spacy<3.6.0,>=3.5.0->en-core-web-sm==3.5.0) (0.7.9)\n",
            "Requirement already satisfied: confection<1.0.0,>=0.0.1 in /usr/local/lib/python3.9/dist-packages (from thinc<8.2.0,>=8.1.8->spacy<3.6.0,>=3.5.0->en-core-web-sm==3.5.0) (0.0.4)\n",
            "Requirement already satisfied: click<9.0.0,>=7.1.1 in /usr/local/lib/python3.9/dist-packages (from typer<0.8.0,>=0.3.0->spacy<3.6.0,>=3.5.0->en-core-web-sm==3.5.0) (8.1.3)\n",
            "Requirement already satisfied: MarkupSafe>=2.0 in /usr/local/lib/python3.9/dist-packages (from jinja2->spacy<3.6.0,>=3.5.0->en-core-web-sm==3.5.0) (2.1.2)\n",
            "\u001b[38;5;2m✔ Download and installation successful\u001b[0m\n",
            "You can now load the package via spacy.load('en_core_web_sm')\n"
          ]
        }
      ]
    },
    {
      "cell_type": "code",
      "source": [
        "import nltk\n",
        "sentence = [(\"the\", \"DT\"), (\"little\", \"JJ\"), (\"guy\", \"NN\"), (\"wanted\", \"VB\"), (\"to\", \"TO\"), (\"die\", \"VB\")]\n",
        "grammar = \"NP: {<DT>?<JJ>*<NN>}\"\n",
        "cp = nltk.RegexpParser(grammar)\n",
        "result = cp.parse(sentence)\n",
        "print(result)"
      ],
      "metadata": {
        "colab": {
          "base_uri": "https://localhost:8080/"
        },
        "id": "_tfRHA3N3nrb",
        "outputId": "52aa341b-2b44-475f-a187-f436b169ff29"
      },
      "execution_count": null,
      "outputs": [
        {
          "output_type": "stream",
          "name": "stdout",
          "text": [
            "(S (NP the/DT little/JJ guy/NN) wanted/VB to/TO die/VB)\n"
          ]
        }
      ]
    }
  ]
}